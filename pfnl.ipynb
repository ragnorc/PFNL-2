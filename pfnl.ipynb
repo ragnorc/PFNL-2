{
 "cells": [
  {
   "cell_type": "markdown",
   "metadata": {},
   "source": [
    "# Part A"
   ]
  },
  {
   "cell_type": "markdown",
   "metadata": {},
   "source": [
    "## Lexicon"
   ]
  },
  {
   "cell_type": "code",
   "execution_count": 1,
   "metadata": {},
   "outputs": [
    {
     "name": "stdout",
     "output_type": "stream",
     "text": [
      "Loading Brown Corpus. Please wait ...\n",
      "Brown Corpus successfully loaded.\n"
     ]
    },
    {
     "data": {
      "text/plain": [
       "['Mary', 'John']"
      ]
     },
     "execution_count": 1,
     "metadata": {},
     "output_type": "execute_result"
    }
   ],
   "source": [
    "from statements import *\n",
    "from pos_tagging import *\n",
    "from agreement import *\n",
    "lx = Lexicon()\n",
    "lx.add(\"John\",\"P\")\n",
    "lx.add(\"Mary\",\"P\")\n",
    "lx.add(\"Mary\",\"P\")\n",
    "lx.add(\"like\",\"T\")\n",
    "lx.add(\"orange\", \"N\")\n",
    "lx.add(\"apple\", \"N\")\n",
    "lx.add(\"orange\", \"A\")\n",
    "lx.add(\"fish\", \"N\")\n",
    "lx.add(\"fish\", \"T\")\n",
    "lx.add(\"fish\", \"I\")\n",
    "#lx.add(\"sells\", \"T\") Only stems are added\n",
    "lx.add(\"sell\", \"T\")\n",
    "#lx.add(\"flies\", \"I\") Only stems are added\n",
    "lx.add(\"fly\", \"I\")\n",
    "lx.add(\"man\", \"N\")\n",
    "lx.getAll(\"P\")"
   ]
  },
  {
   "cell_type": "markdown",
   "metadata": {},
   "source": [
    "## Factbase"
   ]
  },
  {
   "cell_type": "code",
   "execution_count": 2,
   "metadata": {},
   "outputs": [],
   "source": [
    "fb = FactBase()\n",
    "fb.addUnary(\"duck\",\"John\")\n",
    "fb.addBinary(\"love\",\"John\",\"Mary\")"
   ]
  },
  {
   "cell_type": "code",
   "execution_count": 3,
   "metadata": {},
   "outputs": [
    {
     "data": {
      "text/plain": [
       "True"
      ]
     },
     "execution_count": 3,
     "metadata": {},
     "output_type": "execute_result"
    }
   ],
   "source": [
    "fb.queryUnary(\"duck\",\"John\") # returns True"
   ]
  },
  {
   "cell_type": "code",
   "execution_count": 4,
   "metadata": {},
   "outputs": [
    {
     "data": {
      "text/plain": [
       "False"
      ]
     },
     "execution_count": 4,
     "metadata": {},
     "output_type": "execute_result"
    }
   ],
   "source": [
    "fb.queryBinary(\"love\",\"Mary\",\"John\") # Return False"
   ]
  },
  {
   "cell_type": "markdown",
   "metadata": {},
   "source": [
    "## 3sg Converter"
   ]
  },
  {
   "cell_type": "code",
   "execution_count": 5,
   "metadata": {},
   "outputs": [
    {
     "name": "stdout",
     "output_type": "stream",
     "text": [
      "Rule 5\n"
     ]
    },
    {
     "data": {
      "text/plain": [
       "'go'"
      ]
     },
     "execution_count": 5,
     "metadata": {},
     "output_type": "execute_result"
    }
   ],
   "source": [
    "verb_stem(\"goes\")\n"
   ]
  },
  {
   "cell_type": "code",
   "execution_count": 6,
   "metadata": {},
   "outputs": [
    {
     "name": "stdout",
     "output_type": "stream",
     "text": [
      "Rule 5\n"
     ]
    },
    {
     "data": {
      "text/plain": [
       "'box'"
      ]
     },
     "execution_count": 6,
     "metadata": {},
     "output_type": "execute_result"
    }
   ],
   "source": [
    "verb_stem(\"boxes\")\n"
   ]
  },
  {
   "cell_type": "code",
   "execution_count": 7,
   "metadata": {},
   "outputs": [
    {
     "name": "stdout",
     "output_type": "stream",
     "text": [
      "Rule 5\n"
     ]
    },
    {
     "data": {
      "text/plain": [
       "'attach'"
      ]
     },
     "execution_count": 7,
     "metadata": {},
     "output_type": "execute_result"
    }
   ],
   "source": [
    "verb_stem(\"attaches\")\n"
   ]
  },
  {
   "cell_type": "code",
   "execution_count": 8,
   "metadata": {},
   "outputs": [
    {
     "name": "stdout",
     "output_type": "stream",
     "text": [
      "Rule 5\n"
     ]
    },
    {
     "data": {
      "text/plain": [
       "'wash'"
      ]
     },
     "execution_count": 8,
     "metadata": {},
     "output_type": "execute_result"
    }
   ],
   "source": [
    "verb_stem(\"washes\")\n"
   ]
  },
  {
   "cell_type": "code",
   "execution_count": 9,
   "metadata": {},
   "outputs": [
    {
     "name": "stdout",
     "output_type": "stream",
     "text": [
      "Rule 5\n"
     ]
    },
    {
     "data": {
      "text/plain": [
       "'dress'"
      ]
     },
     "execution_count": 9,
     "metadata": {},
     "output_type": "execute_result"
    }
   ],
   "source": [
    "verb_stem(\"dresses\")\n"
   ]
  },
  {
   "cell_type": "code",
   "execution_count": 10,
   "metadata": {},
   "outputs": [
    {
     "name": "stdout",
     "output_type": "stream",
     "text": [
      "Rule 5\n"
     ]
    },
    {
     "data": {
      "text/plain": [
       "'fix'"
      ]
     },
     "execution_count": 10,
     "metadata": {},
     "output_type": "execute_result"
    }
   ],
   "source": [
    "verb_stem(\"fixes\")\n"
   ]
  },
  {
   "cell_type": "code",
   "execution_count": 11,
   "metadata": {},
   "outputs": [
    {
     "name": "stdout",
     "output_type": "stream",
     "text": [
      "Rule 5\n",
      "Not in brown corpus\n"
     ]
    },
    {
     "data": {
      "text/plain": [
       "''"
      ]
     },
     "execution_count": 11,
     "metadata": {},
     "output_type": "execute_result"
    }
   ],
   "source": [
    "verb_stem(\"fizzes\")\n"
   ]
  },
  {
   "cell_type": "code",
   "execution_count": 12,
   "metadata": {},
   "outputs": [
    {
     "name": "stdout",
     "output_type": "stream",
     "text": [
      "Rule 6\n"
     ]
    },
    {
     "data": {
      "text/plain": [
       "'lose'"
      ]
     },
     "execution_count": 12,
     "metadata": {},
     "output_type": "execute_result"
    }
   ],
   "source": [
    "verb_stem(\"loses\")\n"
   ]
  },
  {
   "cell_type": "code",
   "execution_count": 13,
   "metadata": {},
   "outputs": [
    {
     "name": "stdout",
     "output_type": "stream",
     "text": [
      "Rule 6\n",
      "Not in brown corpus\n"
     ]
    },
    {
     "data": {
      "text/plain": [
       "''"
      ]
     },
     "execution_count": 13,
     "metadata": {},
     "output_type": "execute_result"
    }
   ],
   "source": [
    "verb_stem(\"dazes\")\n"
   ]
  },
  {
   "cell_type": "code",
   "execution_count": 14,
   "metadata": {},
   "outputs": [
    {
     "name": "stdout",
     "output_type": "stream",
     "text": [
      "Rule 6\n"
     ]
    },
    {
     "data": {
      "text/plain": [
       "'lapse'"
      ]
     },
     "execution_count": 14,
     "metadata": {},
     "output_type": "execute_result"
    }
   ],
   "source": [
    "verb_stem(\"lapses\")\n"
   ]
  },
  {
   "cell_type": "code",
   "execution_count": 15,
   "metadata": {},
   "outputs": [
    {
     "name": "stdout",
     "output_type": "stream",
     "text": [
      "Rule 6\n",
      "Not in brown corpus\n"
     ]
    },
    {
     "data": {
      "text/plain": [
       "''"
      ]
     },
     "execution_count": 15,
     "metadata": {},
     "output_type": "execute_result"
    }
   ],
   "source": [
    "verb_stem(\"analyses\")"
   ]
  },
  {
   "cell_type": "code",
   "execution_count": 16,
   "metadata": {},
   "outputs": [
    {
     "name": "stdout",
     "output_type": "stream",
     "text": [
      "Rule 8\n"
     ]
    },
    {
     "data": {
      "text/plain": [
       "'like'"
      ]
     },
     "execution_count": 16,
     "metadata": {},
     "output_type": "execute_result"
    }
   ],
   "source": [
    "verb_stem(\"likes\") # 'like'"
   ]
  },
  {
   "cell_type": "code",
   "execution_count": 17,
   "metadata": {},
   "outputs": [
    {
     "name": "stdout",
     "output_type": "stream",
     "text": [
      "Rule 8\n"
     ]
    },
    {
     "data": {
      "text/plain": [
       "'hate'"
      ]
     },
     "execution_count": 17,
     "metadata": {},
     "output_type": "execute_result"
    }
   ],
   "source": [
    "verb_stem(\"hates\") # 'hate'"
   ]
  },
  {
   "cell_type": "code",
   "execution_count": 18,
   "metadata": {},
   "outputs": [
    {
     "name": "stdout",
     "output_type": "stream",
     "text": [
      "Rule 8\n"
     ]
    },
    {
     "data": {
      "text/plain": [
       "'bathe'"
      ]
     },
     "execution_count": 18,
     "metadata": {},
     "output_type": "execute_result"
    }
   ],
   "source": [
    "verb_stem(\"bathes\") # ''"
   ]
  },
  {
   "cell_type": "code",
   "execution_count": 19,
   "metadata": {},
   "outputs": [
    {
     "name": "stdout",
     "output_type": "stream",
     "text": [
      "Rule 3\n"
     ]
    },
    {
     "data": {
      "text/plain": [
       "'fly'"
      ]
     },
     "execution_count": 19,
     "metadata": {},
     "output_type": "execute_result"
    }
   ],
   "source": [
    "verb_stem(\"flies\")"
   ]
  },
  {
   "cell_type": "code",
   "execution_count": 20,
   "metadata": {},
   "outputs": [
    {
     "name": "stdout",
     "output_type": "stream",
     "text": [
      "Not in brown corpus\n"
     ]
    },
    {
     "data": {
      "text/plain": [
       "''"
      ]
     },
     "execution_count": 20,
     "metadata": {},
     "output_type": "execute_result"
    }
   ],
   "source": [
    "verb_stem(\"flys\")"
   ]
  },
  {
   "cell_type": "markdown",
   "metadata": {},
   "source": [
    "# Part B"
   ]
  },
  {
   "cell_type": "code",
   "execution_count": 21,
   "metadata": {},
   "outputs": [
    {
     "name": "stdout",
     "output_type": "stream",
     "text": [
      "Rule 1\n",
      "Rule 1\n",
      "Not in brown corpus\n",
      "Rule 1\n",
      "Not in brown corpus\n"
     ]
    },
    {
     "data": {
      "text/plain": [
       "['P']"
      ]
     },
     "execution_count": 21,
     "metadata": {},
     "output_type": "execute_result"
    }
   ],
   "source": [
    "tag_word(lx, \"John\")"
   ]
  },
  {
   "cell_type": "code",
   "execution_count": 22,
   "metadata": {},
   "outputs": [
    {
     "name": "stdout",
     "output_type": "stream",
     "text": [
      "Rule 1\n",
      "Rule 1\n",
      "Not in brown corpus\n",
      "Rule 1\n",
      "Not in brown corpus\n"
     ]
    },
    {
     "data": {
      "text/plain": [
       "['A', 'Ns']"
      ]
     },
     "execution_count": 22,
     "metadata": {},
     "output_type": "execute_result"
    }
   ],
   "source": [
    "tag_word(lx, \"orange\")"
   ]
  },
  {
   "cell_type": "code",
   "execution_count": 23,
   "metadata": {},
   "outputs": [
    {
     "name": "stdout",
     "output_type": "stream",
     "text": [
      "Not in brown corpus\n",
      "Not in brown corpus\n"
     ]
    },
    {
     "data": {
      "text/plain": [
       "['Np', 'Ip', 'Ns', 'Tp']"
      ]
     },
     "execution_count": 23,
     "metadata": {},
     "output_type": "execute_result"
    }
   ],
   "source": [
    "tag_word(lx, \"fish\")"
   ]
  },
  {
   "cell_type": "code",
   "execution_count": 24,
   "metadata": {},
   "outputs": [
    {
     "name": "stdout",
     "output_type": "stream",
     "text": [
      "Not in brown corpus\n"
     ]
    },
    {
     "data": {
      "text/plain": [
       "''"
      ]
     },
     "execution_count": 24,
     "metadata": {},
     "output_type": "execute_result"
    }
   ],
   "source": [
    "verb_stem(\"fish\")"
   ]
  },
  {
   "cell_type": "code",
   "execution_count": 25,
   "metadata": {},
   "outputs": [
    {
     "name": "stdout",
     "output_type": "stream",
     "text": [
      "Rule 1\n",
      "Rule 1\n",
      "Not in brown corpus\n",
      "Rule 1\n",
      "Not in brown corpus\n"
     ]
    },
    {
     "data": {
      "text/plain": [
       "['AR']"
      ]
     },
     "execution_count": 25,
     "metadata": {},
     "output_type": "execute_result"
    }
   ],
   "source": [
    "tag_word(lx, \"a\")"
   ]
  },
  {
   "cell_type": "code",
   "execution_count": 26,
   "metadata": {},
   "outputs": [
    {
     "name": "stdout",
     "output_type": "stream",
     "text": [
      "Rule 1\n",
      "Rule 1\n",
      "Rule 1\n"
     ]
    },
    {
     "data": {
      "text/plain": [
       "['Ts']"
      ]
     },
     "execution_count": 26,
     "metadata": {},
     "output_type": "execute_result"
    }
   ],
   "source": [
    "tag_word(lx, \"sells\")"
   ]
  },
  {
   "cell_type": "code",
   "execution_count": 27,
   "metadata": {},
   "outputs": [
    {
     "name": "stdout",
     "output_type": "stream",
     "text": [
      "Rule 3\n",
      "Not in brown corpus\n"
     ]
    },
    {
     "data": {
      "text/plain": [
       "''"
      ]
     },
     "execution_count": 27,
     "metadata": {},
     "output_type": "execute_result"
    }
   ],
   "source": [
    "verb_stem(\"unties\")"
   ]
  },
  {
   "cell_type": "code",
   "execution_count": 28,
   "metadata": {},
   "outputs": [
    {
     "name": "stdout",
     "output_type": "stream",
     "text": [
      "Rule 3\n",
      "Rule 3\n",
      "Rule 3\n"
     ]
    },
    {
     "data": {
      "text/plain": [
       "['Is']"
      ]
     },
     "execution_count": 28,
     "metadata": {},
     "output_type": "execute_result"
    }
   ],
   "source": [
    "tag_word(lx, \"flies\")"
   ]
  },
  {
   "cell_type": "code",
   "execution_count": 29,
   "metadata": {},
   "outputs": [
    {
     "name": "stdout",
     "output_type": "stream",
     "text": [
      "Rule 1\n",
      "Rule 1\n",
      "Not in brown corpus\n",
      "Rule 1\n",
      "Not in brown corpus\n"
     ]
    },
    {
     "data": {
      "text/plain": [
       "['AR']"
      ]
     },
     "execution_count": 29,
     "metadata": {},
     "output_type": "execute_result"
    }
   ],
   "source": [
    "tag_word(lx, \"a\") # ['AR']"
   ]
  },
  {
   "cell_type": "code",
   "execution_count": 30,
   "metadata": {},
   "outputs": [
    {
     "name": "stdout",
     "output_type": "stream",
     "text": [
      "Rule 8\n",
      "Rule 8\n",
      "Not in brown corpus\n",
      "Rule 8\n",
      "Not in brown corpus\n"
     ]
    },
    {
     "data": {
      "text/plain": [
       "['Np']"
      ]
     },
     "execution_count": 30,
     "metadata": {},
     "output_type": "execute_result"
    }
   ],
   "source": [
    "tag_word(lx, \"oranges\") # ['Np']"
   ]
  },
  {
   "cell_type": "code",
   "execution_count": 31,
   "metadata": {},
   "outputs": [
    {
     "name": "stdout",
     "output_type": "stream",
     "text": [
      "Not in brown corpus\n",
      "Not in brown corpus\n"
     ]
    },
    {
     "data": {
      "text/plain": [
       "['BEs']"
      ]
     },
     "execution_count": 31,
     "metadata": {},
     "output_type": "execute_result"
    }
   ],
   "source": [
    "tag_word(lx, \"is\") # ['BEs']"
   ]
  },
  {
   "cell_type": "code",
   "execution_count": 32,
   "metadata": {},
   "outputs": [
    {
     "name": "stdout",
     "output_type": "stream",
     "text": [
      "Rule 1\n",
      "Rule 1\n",
      "Not in brown corpus\n",
      "Rule 1\n",
      "Not in brown corpus\n",
      "Rule 8\n",
      "Rule 8\n",
      "Not in brown corpus\n",
      "Rule 8\n",
      "Not in brown corpus\n",
      "Rule 5\n",
      "Rule 5\n",
      "Not in brown corpus\n",
      "Rule 5\n",
      "Not in brown corpus\n",
      "Rule 1\n",
      "Rule 1\n",
      "Not in brown corpus\n",
      "Rule 1\n",
      "Not in brown corpus\n",
      "Rule 1\n",
      "Rule 1\n",
      "Not in brown corpus\n",
      "Rule 1\n",
      "Not in brown corpus\n",
      "Rule 1\n",
      "Rule 1\n",
      "Not in brown corpus\n",
      "Rule 1\n",
      "Not in brown corpus\n",
      "(QP (DO DOs) (NP (P P)) (T Tp))\n"
     ]
    },
    {
     "data": {
      "text/plain": [
       "'p'"
      ]
     },
     "execution_count": 32,
     "metadata": {},
     "output_type": "execute_result"
    }
   ],
   "source": [
    "tr  = all_parses(['Which','apples','does','John','like','?'],lx)\n",
    "print(tr[0][2])\n",
    "N_phrase_num(tr[0][1])"
   ]
  },
  {
   "cell_type": "code",
   "execution_count": 33,
   "metadata": {},
   "outputs": [
    {
     "name": "stdout",
     "output_type": "stream",
     "text": [
      "Rule 1\n",
      "Rule 1\n",
      "Not in brown corpus\n",
      "Rule 1\n",
      "Not in brown corpus\n",
      "Rule 5\n",
      "Rule 5\n",
      "Not in brown corpus\n",
      "Rule 5\n",
      "Not in brown corpus\n",
      "Rule 1\n",
      "Rule 1\n",
      "Not in brown corpus\n",
      "Rule 1\n",
      "Not in brown corpus\n",
      "Rule 1\n",
      "Rule 1\n",
      "Not in brown corpus\n",
      "Rule 1\n",
      "Not in brown corpus\n",
      "Rule 1\n",
      "Rule 1\n",
      "Not in brown corpus\n",
      "Rule 1\n",
      "Not in brown corpus\n"
     ]
    }
   ],
   "source": [
    "tr1 = all_valid_parses(lx, ['Who','does','John','like','?'])[0]"
   ]
  },
  {
   "cell_type": "code",
   "execution_count": 34,
   "metadata": {},
   "outputs": [
    {
     "name": "stdout",
     "output_type": "stream",
     "text": [
      "Rule 1\n",
      "Rule 1\n",
      "Not in brown corpus\n",
      "Rule 1\n",
      "Not in brown corpus\n",
      "Rule 8\n",
      "Rule 8\n",
      "Not in brown corpus\n",
      "Rule 8\n",
      "Not in brown corpus\n",
      "Rule 5\n",
      "Rule 5\n",
      "Not in brown corpus\n",
      "Rule 5\n",
      "Not in brown corpus\n",
      "Rule 1\n",
      "Rule 1\n",
      "Not in brown corpus\n",
      "Rule 1\n",
      "Not in brown corpus\n",
      "Rule 1\n",
      "Rule 1\n",
      "Not in brown corpus\n",
      "Rule 1\n",
      "Not in brown corpus\n",
      "Rule 1\n",
      "Rule 1\n",
      "Not in brown corpus\n",
      "Rule 1\n",
      "Not in brown corpus\n"
     ]
    }
   ],
   "source": [
    "tr1.draw()\n",
    "tr  = all_parses(['Which','apples','does','John','like','?'],lx)\n",
    "#print(tr[0][2])\n",
    "#print(V_phrase_num(tr[0][2]))"
   ]
  },
  {
   "cell_type": "code",
   "execution_count": 35,
   "metadata": {},
   "outputs": [
    {
     "name": "stdout",
     "output_type": "stream",
     "text": [
      "Rule 1\n",
      "Rule 1\n",
      "Not in brown corpus\n",
      "Rule 1\n",
      "Not in brown corpus\n",
      "Not in brown corpus\n",
      "Not in brown corpus\n",
      "Rule 1\n",
      "Rule 1\n",
      "Not in brown corpus\n",
      "Rule 1\n",
      "Not in brown corpus\n",
      "Not in brown corpus\n",
      "Not in brown corpus\n",
      "Rule 1\n",
      "Rule 1\n",
      "Not in brown corpus\n",
      "Rule 1\n",
      "Not in brown corpus\n",
      "Not in brown corpus\n",
      "Not in brown corpus\n",
      "Rule 1\n",
      "Rule 1\n",
      "Not in brown corpus\n",
      "Rule 1\n",
      "Not in brown corpus\n",
      "Rule 1\n",
      "Rule 1\n",
      "Not in brown corpus\n",
      "Rule 1\n",
      "Not in brown corpus\n",
      "(VP (BE BEs) (NP (AR AR) (Nom (AN (N Np)))))\n",
      "agreement error\n",
      "(VP (BE BEs) (NP (AR AR) (Nom (AN (N Np)))))\n",
      "agreement error\n",
      "(NP (Nom (AN (N Ns))))\n",
      "agreement error\n"
     ]
    }
   ],
   "source": [
    "tr0 = all_valid_parses(lx, ['Who','is','a','fish','and','is','orange','?'])[0]"
   ]
  },
  {
   "cell_type": "code",
   "execution_count": 36,
   "metadata": {},
   "outputs": [],
   "source": [
    "tr0.draw()"
   ]
  },
  {
   "cell_type": "code",
   "execution_count": 37,
   "metadata": {},
   "outputs": [
    {
     "name": "stdout",
     "output_type": "stream",
     "text": [
      "Rule 1\n"
     ]
    },
    {
     "data": {
      "text/plain": [
       "'swim'"
      ]
     },
     "execution_count": 37,
     "metadata": {},
     "output_type": "execute_result"
    }
   ],
   "source": [
    "verb_stem('swims')"
   ]
  },
  {
   "cell_type": "code",
   "execution_count": 38,
   "metadata": {},
   "outputs": [
    {
     "name": "stdout",
     "output_type": "stream",
     "text": [
      "Rule 1\n",
      "Rule 1\n",
      "Not in brown corpus\n",
      "Rule 1\n",
      "Not in brown corpus\n",
      "Not in brown corpus\n",
      "Not in brown corpus\n",
      "Rule 1\n",
      "Rule 1\n",
      "Not in brown corpus\n",
      "Rule 1\n",
      "Not in brown corpus\n",
      "Rule 1\n",
      "Rule 1\n",
      "Not in brown corpus\n",
      "Rule 1\n",
      "Not in brown corpus\n"
     ]
    }
   ],
   "source": [
    "tr0 = all_valid_parses(lx, ['Who','is','Mary','?'])[0]"
   ]
  },
  {
   "cell_type": "code",
   "execution_count": 39,
   "metadata": {},
   "outputs": [
    {
     "name": "stdout",
     "output_type": "stream",
     "text": [
      "Rule 1\n",
      "Rule 1\n",
      "Not in brown corpus\n",
      "Rule 1\n",
      "Not in brown corpus\n",
      "Not in brown corpus\n",
      "Not in brown corpus\n",
      "Rule 1\n",
      "Rule 1\n",
      "Not in brown corpus\n",
      "Rule 1\n",
      "Not in brown corpus\n",
      "Rule 1\n",
      "Rule 1\n",
      "Not in brown corpus\n",
      "Rule 1\n",
      "Not in brown corpus\n"
     ]
    },
    {
     "ename": "IndexError",
     "evalue": "list index out of range",
     "output_type": "error",
     "traceback": [
      "\u001b[0;31m---------------------------------------------------------------------------\u001b[0m",
      "\u001b[0;31mIndexError\u001b[0m                                Traceback (most recent call last)",
      "\u001b[0;32m<ipython-input-39-3612a4dc5096>\u001b[0m in \u001b[0;36m<module>\u001b[0;34m()\u001b[0m\n\u001b[0;32m----> 1\u001b[0;31m \u001b[0mtr1\u001b[0m \u001b[0;34m=\u001b[0m \u001b[0mall_valid_parses\u001b[0m\u001b[0;34m(\u001b[0m\u001b[0mlx\u001b[0m\u001b[0;34m,\u001b[0m \u001b[0;34m[\u001b[0m\u001b[0;34m'Who'\u001b[0m\u001b[0;34m,\u001b[0m\u001b[0;34m'is'\u001b[0m\u001b[0;34m,\u001b[0m\u001b[0;34m'Mary'\u001b[0m\u001b[0;34m,\u001b[0m\u001b[0;34m'?'\u001b[0m\u001b[0;34m]\u001b[0m\u001b[0;34m)\u001b[0m\u001b[0;34m[\u001b[0m\u001b[0;36m1\u001b[0m\u001b[0;34m]\u001b[0m\u001b[0;34m\u001b[0m\u001b[0m\n\u001b[0m",
      "\u001b[0;31mIndexError\u001b[0m: list index out of range"
     ]
    }
   ],
   "source": [
    "tr1 = all_valid_parses(lx, ['Who','is','Mary','?'])[1]"
   ]
  },
  {
   "cell_type": "code",
   "execution_count": null,
   "metadata": {},
   "outputs": [],
   "source": []
  }
 ],
 "metadata": {
  "kernelspec": {
   "display_name": "Python 2",
   "language": "python",
   "name": "python2"
  }
 },
 "nbformat": 4,
 "nbformat_minor": 2
}
